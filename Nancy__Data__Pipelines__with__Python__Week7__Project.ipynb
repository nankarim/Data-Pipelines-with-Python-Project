{
  "nbformat": 4,
  "nbformat_minor": 0,
  "metadata": {
    "colab": {
      "provenance": []
    },
    "kernelspec": {
      "name": "python3",
      "display_name": "Python 3"
    },
    "language_info": {
      "name": "python"
    }
  },
  "cells": [
    {
      "cell_type": "code",
      "execution_count": 38,
      "metadata": {
        "id": "Mfq5tQevDA0Y"
      },
      "outputs": [],
      "source": [
        "import pandas as pd\n",
        "from airflow import DAG\n",
        "from datetime import datetime, timedelta\n",
        "\n",
        "#Loading the datasets\n",
        "df1 = pd.read_csv('dataset1.csv')\n",
        "df2 = pd.read_csv('dataset2.csv')\n",
        "df3 = pd.read_csv('dataset3.csv')\n",
        "\n"
      ]
    },
    {
      "cell_type": "code",
      "source": [
        "from airflow.operators.python_operator import PythonOperator"
      ],
      "metadata": {
        "colab": {
          "base_uri": "https://localhost:8080/",
          "height": 51
        },
        "id": "57C2pga5Gfoy",
        "outputId": "88d0f495-7b03-42b7-a4ab-0e0a156d91df"
      },
      "execution_count": 39,
      "outputs": [
        {
          "output_type": "display_data",
          "data": {
            "text/plain": [
              "\u001b[1;33m<\u001b[0m\u001b[1;33mipython-input-\u001b[0m\u001b[1;33m39\u001b[0m\u001b[1;33m-10c29da289db\u001b[0m\u001b[1;33m>\u001b[0m\u001b[1;33m:\u001b[0m\u001b[1;33m1\u001b[0m\u001b[1;33m DeprecationWarning\u001b[0m\u001b[33m: The `airflow.operators.python_operator.PythonOperator` class is deprecated. Please use `\u001b[0m\u001b[33m'airflow.operators.python.PythonOperator'\u001b[0m\u001b[33m`.\u001b[0m\n"
            ],
            "text/html": [
              "<pre style=\"white-space:pre;overflow-x:auto;line-height:normal;font-family:Menlo,'DejaVu Sans Mono',consolas,'Courier New',monospace\"><span style=\"color: #808000; text-decoration-color: #808000; font-weight: bold\">&lt;ipython-input-</span><span style=\"color: #808000; text-decoration-color: #808000; font-weight: bold\">39</span><span style=\"color: #808000; text-decoration-color: #808000; font-weight: bold\">-10c29da289db&gt;:</span><span style=\"color: #808000; text-decoration-color: #808000; font-weight: bold\">1</span><span style=\"color: #808000; text-decoration-color: #808000; font-weight: bold\"> DeprecationWarning</span><span style=\"color: #808000; text-decoration-color: #808000\">: The `airflow.operators.python_operator.PythonOperator` class is deprecated. Please use `</span><span style=\"color: #808000; text-decoration-color: #808000\">'airflow.operators.python.PythonOperator'</span><span style=\"color: #808000; text-decoration-color: #808000\">`.</span>\n",
              "</pre>\n"
            ]
          },
          "metadata": {}
        }
      ]
    },
    {
      "cell_type": "code",
      "source": [
        "pip install apache-airflow"
      ],
      "metadata": {
        "colab": {
          "base_uri": "https://localhost:8080/"
        },
        "id": "UrC9nXPyF-pD",
        "outputId": "f1408df9-df79-428a-c683-e82c0fa367f9"
      },
      "execution_count": 40,
      "outputs": [
        {
          "output_type": "stream",
          "name": "stdout",
          "text": [
            "Looking in indexes: https://pypi.org/simple, https://us-python.pkg.dev/colab-wheels/public/simple/\n",
            "Requirement already satisfied: apache-airflow in /usr/local/lib/python3.9/dist-packages (2.5.2)\n",
            "Requirement already satisfied: termcolor>=1.1.0 in /usr/local/lib/python3.9/dist-packages (from apache-airflow) (2.2.0)\n",
            "Requirement already satisfied: linkify-it-py>=2.0.0 in /usr/local/lib/python3.9/dist-packages (from apache-airflow) (2.0.0)\n",
            "Requirement already satisfied: mdit-py-plugins>=0.3.0 in /usr/local/lib/python3.9/dist-packages (from apache-airflow) (0.3.5)\n",
            "Requirement already satisfied: werkzeug>=2.0 in /usr/local/lib/python3.9/dist-packages (from apache-airflow) (2.2.3)\n",
            "Requirement already satisfied: rich>=12.4.4 in /usr/local/lib/python3.9/dist-packages (from apache-airflow) (13.3.2)\n",
            "Requirement already satisfied: sqlalchemy<2.0,>=1.4 in /usr/local/lib/python3.9/dist-packages (from apache-airflow) (1.4.47)\n",
            "Requirement already satisfied: pendulum>=2.0 in /usr/local/lib/python3.9/dist-packages (from apache-airflow) (2.1.2)\n",
            "Requirement already satisfied: apache-airflow-providers-ftp in /usr/local/lib/python3.9/dist-packages (from apache-airflow) (3.3.1)\n",
            "Requirement already satisfied: markdown-it-py>=2.1.0 in /usr/local/lib/python3.9/dist-packages (from apache-airflow) (2.2.0)\n",
            "Requirement already satisfied: apache-airflow-providers-imap in /usr/local/lib/python3.9/dist-packages (from apache-airflow) (3.1.1)\n",
            "Requirement already satisfied: gunicorn>=20.1.0 in /usr/local/lib/python3.9/dist-packages (from apache-airflow) (20.1.0)\n",
            "Requirement already satisfied: cattrs>=22.1.0 in /usr/local/lib/python3.9/dist-packages (from apache-airflow) (22.2.0)\n",
            "Requirement already satisfied: configupdater>=3.1.1 in /usr/local/lib/python3.9/dist-packages (from apache-airflow) (3.1.1)\n",
            "Requirement already satisfied: flask<2.3,>=2.2 in /usr/local/lib/python3.9/dist-packages (from apache-airflow) (2.2.3)\n",
            "Requirement already satisfied: httpx in /usr/local/lib/python3.9/dist-packages (from apache-airflow) (0.23.3)\n",
            "Requirement already satisfied: psutil>=4.2.0 in /usr/local/lib/python3.9/dist-packages (from apache-airflow) (5.9.4)\n",
            "Requirement already satisfied: croniter>=0.3.17 in /usr/local/lib/python3.9/dist-packages (from apache-airflow) (1.3.8)\n",
            "Requirement already satisfied: argcomplete>=1.10 in /usr/local/lib/python3.9/dist-packages (from apache-airflow) (3.0.4)\n",
            "Requirement already satisfied: dill>=0.2.2 in /usr/local/lib/python3.9/dist-packages (from apache-airflow) (0.3.6)\n",
            "Requirement already satisfied: flask-session>=0.4.0 in /usr/local/lib/python3.9/dist-packages (from apache-airflow) (0.4.0)\n",
            "Requirement already satisfied: pathspec~=0.9.0 in /usr/local/lib/python3.9/dist-packages (from apache-airflow) (0.9.0)\n",
            "Requirement already satisfied: pygments>=2.0.1 in /usr/local/lib/python3.9/dist-packages (from apache-airflow) (2.14.0)\n",
            "Requirement already satisfied: jinja2>=3.0.0 in /usr/local/lib/python3.9/dist-packages (from apache-airflow) (3.1.2)\n",
            "Requirement already satisfied: connexion[flask]>=2.10.0 in /usr/local/lib/python3.9/dist-packages (from apache-airflow) (2.14.2)\n",
            "Requirement already satisfied: flask-wtf>=0.15 in /usr/local/lib/python3.9/dist-packages (from apache-airflow) (1.1.1)\n",
            "Requirement already satisfied: lazy-object-proxy in /usr/local/lib/python3.9/dist-packages (from apache-airflow) (1.9.0)\n",
            "Requirement already satisfied: setproctitle>=1.1.8 in /usr/local/lib/python3.9/dist-packages (from apache-airflow) (1.3.2)\n",
            "Requirement already satisfied: markdown>=3.0 in /usr/local/lib/python3.9/dist-packages (from apache-airflow) (3.4.1)\n",
            "Requirement already satisfied: cryptography>=0.9.3 in /usr/local/lib/python3.9/dist-packages (from apache-airflow) (39.0.2)\n",
            "Requirement already satisfied: python-slugify>=5.0 in /usr/local/lib/python3.9/dist-packages (from apache-airflow) (8.0.1)\n",
            "Requirement already satisfied: sqlalchemy-jsonfield>=1.0 in /usr/local/lib/python3.9/dist-packages (from apache-airflow) (1.0.1.post0)\n",
            "Requirement already satisfied: attrs>=22.1.0 in /usr/local/lib/python3.9/dist-packages (from apache-airflow) (22.2.0)\n",
            "Requirement already satisfied: tenacity!=8.2.0,>=6.2.0 in /usr/local/lib/python3.9/dist-packages (from apache-airflow) (8.2.2)\n",
            "Requirement already satisfied: packaging>=14.0 in /usr/local/lib/python3.9/dist-packages (from apache-airflow) (23.0)\n",
            "Requirement already satisfied: apache-airflow-providers-http in /usr/local/lib/python3.9/dist-packages (from apache-airflow) (4.2.0)\n",
            "Requirement already satisfied: graphviz>=0.12 in /usr/local/lib/python3.9/dist-packages (from apache-airflow) (0.20.1)\n",
            "Requirement already satisfied: flask-appbuilder==4.1.4 in /usr/local/lib/python3.9/dist-packages (from apache-airflow) (4.1.4)\n",
            "Requirement already satisfied: importlib-metadata<5.0.0,>=1.7 in /usr/local/lib/python3.9/dist-packages (from apache-airflow) (4.13.0)\n",
            "Requirement already satisfied: blinker in /usr/local/lib/python3.9/dist-packages (from apache-airflow) (1.5)\n",
            "Requirement already satisfied: jsonschema>=4.0.0 in /usr/local/lib/python3.9/dist-packages (from apache-airflow) (4.3.3)\n",
            "Requirement already satisfied: pluggy>=1.0 in /usr/local/lib/python3.9/dist-packages (from apache-airflow) (1.0.0)\n",
            "Requirement already satisfied: typing-extensions>=4.0.0 in /usr/local/lib/python3.9/dist-packages (from apache-airflow) (4.5.0)\n",
            "Requirement already satisfied: unicodecsv>=0.14.1 in /usr/local/lib/python3.9/dist-packages (from apache-airflow) (0.14.1)\n",
            "Requirement already satisfied: itsdangerous>=2.0 in /usr/local/lib/python3.9/dist-packages (from apache-airflow) (2.1.2)\n",
            "Requirement already satisfied: colorlog<5.0,>=4.0.2 in /usr/local/lib/python3.9/dist-packages (from apache-airflow) (4.8.0)\n",
            "Requirement already satisfied: pyjwt>=2.0.0 in /usr/local/lib/python3.9/dist-packages (from apache-airflow) (2.6.0)\n",
            "Requirement already satisfied: deprecated>=1.2.13 in /usr/local/lib/python3.9/dist-packages (from apache-airflow) (1.2.13)\n",
            "Requirement already satisfied: python-nvd3>=0.15.0 in /usr/local/lib/python3.9/dist-packages (from apache-airflow) (0.15.0)\n",
            "Requirement already satisfied: python-daemon>=3.0.0 in /usr/local/lib/python3.9/dist-packages (from apache-airflow) (3.0.1)\n",
            "Requirement already satisfied: python-dateutil>=2.3 in /usr/local/lib/python3.9/dist-packages (from apache-airflow) (2.8.2)\n",
            "Requirement already satisfied: flask-caching>=1.5.0 in /usr/local/lib/python3.9/dist-packages (from apache-airflow) (2.0.2)\n",
            "Requirement already satisfied: lockfile>=0.12.2 in /usr/local/lib/python3.9/dist-packages (from apache-airflow) (0.12.2)\n",
            "Requirement already satisfied: rfc3339-validator>=0.1.4 in /usr/local/lib/python3.9/dist-packages (from apache-airflow) (0.1.4)\n",
            "Requirement already satisfied: apache-airflow-providers-common-sql in /usr/local/lib/python3.9/dist-packages (from apache-airflow) (1.3.4)\n",
            "Requirement already satisfied: cron-descriptor>=1.2.24 in /usr/local/lib/python3.9/dist-packages (from apache-airflow) (1.2.35)\n",
            "Requirement already satisfied: markupsafe>=1.1.1 in /usr/local/lib/python3.9/dist-packages (from apache-airflow) (2.1.2)\n",
            "Requirement already satisfied: tabulate>=0.7.5 in /usr/local/lib/python3.9/dist-packages (from apache-airflow) (0.8.10)\n",
            "Requirement already satisfied: marshmallow-oneofschema>=2.0.1 in /usr/local/lib/python3.9/dist-packages (from apache-airflow) (3.0.1)\n",
            "Requirement already satisfied: alembic<2.0,>=1.6.3 in /usr/local/lib/python3.9/dist-packages (from apache-airflow) (1.10.2)\n",
            "Requirement already satisfied: flask-login>=0.6.2 in /usr/local/lib/python3.9/dist-packages (from apache-airflow) (0.6.2)\n",
            "Requirement already satisfied: apache-airflow-providers-sqlite in /usr/local/lib/python3.9/dist-packages (from apache-airflow) (3.3.1)\n",
            "Requirement already satisfied: marshmallow<4,>=3 in /usr/local/lib/python3.9/dist-packages (from flask-appbuilder==4.1.4->apache-airflow) (3.19.0)\n",
            "Requirement already satisfied: sqlalchemy-utils<1,>=0.32.21 in /usr/local/lib/python3.9/dist-packages (from flask-appbuilder==4.1.4->apache-airflow) (0.40.0)\n",
            "Requirement already satisfied: Flask-JWT-Extended<5.0.0,>=4.0.0 in /usr/local/lib/python3.9/dist-packages (from flask-appbuilder==4.1.4->apache-airflow) (4.4.4)\n",
            "Requirement already satisfied: marshmallow-sqlalchemy<0.27.0,>=0.22.0 in /usr/local/lib/python3.9/dist-packages (from flask-appbuilder==4.1.4->apache-airflow) (0.26.1)\n",
            "Requirement already satisfied: email-validator<2,>=1.0.5 in /usr/local/lib/python3.9/dist-packages (from flask-appbuilder==4.1.4->apache-airflow) (1.3.1)\n",
            "Requirement already satisfied: Flask-Babel<3,>=1 in /usr/local/lib/python3.9/dist-packages (from flask-appbuilder==4.1.4->apache-airflow) (2.0.0)\n",
            "Requirement already satisfied: marshmallow-enum<2,>=1.5.1 in /usr/local/lib/python3.9/dist-packages (from flask-appbuilder==4.1.4->apache-airflow) (1.5.1)\n",
            "Requirement already satisfied: prison<1.0.0,>=0.2.1 in /usr/local/lib/python3.9/dist-packages (from flask-appbuilder==4.1.4->apache-airflow) (0.2.1)\n",
            "Requirement already satisfied: colorama<1,>=0.3.9 in /usr/local/lib/python3.9/dist-packages (from flask-appbuilder==4.1.4->apache-airflow) (0.4.6)\n",
            "Requirement already satisfied: click<9,>=8 in /usr/local/lib/python3.9/dist-packages (from flask-appbuilder==4.1.4->apache-airflow) (8.1.3)\n",
            "Requirement already satisfied: apispec[yaml]<4,>=3.3 in /usr/local/lib/python3.9/dist-packages (from flask-appbuilder==4.1.4->apache-airflow) (3.3.2)\n",
            "Requirement already satisfied: Flask-SQLAlchemy<3,>=2.4 in /usr/local/lib/python3.9/dist-packages (from flask-appbuilder==4.1.4->apache-airflow) (2.5.1)\n",
            "Requirement already satisfied: WTForms<4 in /usr/local/lib/python3.9/dist-packages (from flask-appbuilder==4.1.4->apache-airflow) (3.0.1)\n",
            "Requirement already satisfied: Mako in /usr/local/lib/python3.9/dist-packages (from alembic<2.0,>=1.6.3->apache-airflow) (1.2.4)\n",
            "Requirement already satisfied: exceptiongroup in /usr/local/lib/python3.9/dist-packages (from cattrs>=22.1.0->apache-airflow) (1.1.1)\n",
            "Requirement already satisfied: inflection<0.6,>=0.3.1 in /usr/local/lib/python3.9/dist-packages (from connexion[flask]>=2.10.0->apache-airflow) (0.5.1)\n",
            "Requirement already satisfied: PyYAML<7,>=5.1 in /usr/local/lib/python3.9/dist-packages (from connexion[flask]>=2.10.0->apache-airflow) (6.0)\n",
            "Requirement already satisfied: clickclick<21,>=1.2 in /usr/local/lib/python3.9/dist-packages (from connexion[flask]>=2.10.0->apache-airflow) (20.10.2)\n",
            "Requirement already satisfied: requests<3,>=2.9.1 in /usr/local/lib/python3.9/dist-packages (from connexion[flask]>=2.10.0->apache-airflow) (2.27.1)\n",
            "Requirement already satisfied: cffi>=1.12 in /usr/local/lib/python3.9/dist-packages (from cryptography>=0.9.3->apache-airflow) (1.15.1)\n",
            "Requirement already satisfied: wrapt<2,>=1.10 in /usr/local/lib/python3.9/dist-packages (from deprecated>=1.2.13->apache-airflow) (1.15.0)\n",
            "Requirement already satisfied: cachelib<0.10.0,>=0.9.0 in /usr/local/lib/python3.9/dist-packages (from flask-caching>=1.5.0->apache-airflow) (0.9.0)\n",
            "Requirement already satisfied: setuptools>=3.0 in /usr/local/lib/python3.9/dist-packages (from gunicorn>=20.1.0->apache-airflow) (67.6.0)\n",
            "Requirement already satisfied: zipp>=0.5 in /usr/local/lib/python3.9/dist-packages (from importlib-metadata<5.0.0,>=1.7->apache-airflow) (3.15.0)\n",
            "Requirement already satisfied: pyrsistent!=0.17.0,!=0.17.1,!=0.17.2,>=0.14.0 in /usr/local/lib/python3.9/dist-packages (from jsonschema>=4.0.0->apache-airflow) (0.19.3)\n",
            "Requirement already satisfied: uc-micro-py in /usr/local/lib/python3.9/dist-packages (from linkify-it-py>=2.0.0->apache-airflow) (1.0.1)\n",
            "Requirement already satisfied: mdurl~=0.1 in /usr/local/lib/python3.9/dist-packages (from markdown-it-py>=2.1.0->apache-airflow) (0.1.2)\n",
            "Requirement already satisfied: pytzdata>=2020.1 in /usr/local/lib/python3.9/dist-packages (from pendulum>=2.0->apache-airflow) (2020.1)\n",
            "Requirement already satisfied: docutils in /usr/local/lib/python3.9/dist-packages (from python-daemon>=3.0.0->apache-airflow) (0.16)\n",
            "Requirement already satisfied: six>=1.5 in /usr/local/lib/python3.9/dist-packages (from python-dateutil>=2.3->apache-airflow) (1.16.0)\n",
            "Requirement already satisfied: text-unidecode>=1.3 in /usr/local/lib/python3.9/dist-packages (from python-slugify>=5.0->apache-airflow) (1.3)\n",
            "Requirement already satisfied: greenlet!=0.4.17 in /usr/local/lib/python3.9/dist-packages (from sqlalchemy<2.0,>=1.4->apache-airflow) (2.0.2)\n",
            "Requirement already satisfied: sqlparse>=0.4.2 in /usr/local/lib/python3.9/dist-packages (from apache-airflow-providers-common-sql->apache-airflow) (0.4.3)\n",
            "Requirement already satisfied: asgiref in /usr/local/lib/python3.9/dist-packages (from apache-airflow-providers-http->apache-airflow) (3.6.0)\n",
            "Requirement already satisfied: aiohttp in /usr/local/lib/python3.9/dist-packages (from apache-airflow-providers-http->apache-airflow) (3.8.4)\n",
            "Requirement already satisfied: requests-toolbelt in /usr/local/lib/python3.9/dist-packages (from apache-airflow-providers-http->apache-airflow) (0.10.1)\n",
            "Requirement already satisfied: httpcore<0.17.0,>=0.15.0 in /usr/local/lib/python3.9/dist-packages (from httpx->apache-airflow) (0.16.3)\n",
            "Requirement already satisfied: sniffio in /usr/local/lib/python3.9/dist-packages (from httpx->apache-airflow) (1.3.0)\n",
            "Requirement already satisfied: certifi in /usr/local/lib/python3.9/dist-packages (from httpx->apache-airflow) (2022.12.7)\n",
            "Requirement already satisfied: rfc3986[idna2008]<2,>=1.3 in /usr/local/lib/python3.9/dist-packages (from httpx->apache-airflow) (1.5.0)\n",
            "Requirement already satisfied: pycparser in /usr/local/lib/python3.9/dist-packages (from cffi>=1.12->cryptography>=0.9.3->apache-airflow) (2.21)\n",
            "Requirement already satisfied: idna>=2.0.0 in /usr/local/lib/python3.9/dist-packages (from email-validator<2,>=1.0.5->flask-appbuilder==4.1.4->apache-airflow) (3.4)\n",
            "Requirement already satisfied: dnspython>=1.15.0 in /usr/local/lib/python3.9/dist-packages (from email-validator<2,>=1.0.5->flask-appbuilder==4.1.4->apache-airflow) (2.3.0)\n",
            "Requirement already satisfied: pytz in /usr/local/lib/python3.9/dist-packages (from Flask-Babel<3,>=1->flask-appbuilder==4.1.4->apache-airflow) (2022.7.1)\n",
            "Requirement already satisfied: Babel>=2.3 in /usr/local/lib/python3.9/dist-packages (from Flask-Babel<3,>=1->flask-appbuilder==4.1.4->apache-airflow) (2.12.1)\n",
            "Requirement already satisfied: anyio<5.0,>=3.0 in /usr/local/lib/python3.9/dist-packages (from httpcore<0.17.0,>=0.15.0->httpx->apache-airflow) (3.6.2)\n",
            "Requirement already satisfied: h11<0.15,>=0.13 in /usr/local/lib/python3.9/dist-packages (from httpcore<0.17.0,>=0.15.0->httpx->apache-airflow) (0.14.0)\n",
            "Requirement already satisfied: urllib3<1.27,>=1.21.1 in /usr/local/lib/python3.9/dist-packages (from requests<3,>=2.9.1->connexion[flask]>=2.10.0->apache-airflow) (1.26.15)\n",
            "Requirement already satisfied: charset-normalizer~=2.0.0 in /usr/local/lib/python3.9/dist-packages (from requests<3,>=2.9.1->connexion[flask]>=2.10.0->apache-airflow) (2.0.12)\n",
            "Requirement already satisfied: yarl<2.0,>=1.0 in /usr/local/lib/python3.9/dist-packages (from aiohttp->apache-airflow-providers-http->apache-airflow) (1.8.2)\n",
            "Requirement already satisfied: frozenlist>=1.1.1 in /usr/local/lib/python3.9/dist-packages (from aiohttp->apache-airflow-providers-http->apache-airflow) (1.3.3)\n",
            "Requirement already satisfied: async-timeout<5.0,>=4.0.0a3 in /usr/local/lib/python3.9/dist-packages (from aiohttp->apache-airflow-providers-http->apache-airflow) (4.0.2)\n",
            "Requirement already satisfied: aiosignal>=1.1.2 in /usr/local/lib/python3.9/dist-packages (from aiohttp->apache-airflow-providers-http->apache-airflow) (1.3.1)\n",
            "Requirement already satisfied: multidict<7.0,>=4.5 in /usr/local/lib/python3.9/dist-packages (from aiohttp->apache-airflow-providers-http->apache-airflow) (6.0.4)\n"
          ]
        }
      ]
    },
    {
      "cell_type": "code",
      "source": [
        "# Remove missing values\n",
        "df1 = df1.dropna()\n",
        "df2 = df2.dropna()\n",
        "df3 = df3.dropna()\n"
      ],
      "metadata": {
        "id": "IpgqfBorFXxa"
      },
      "execution_count": 41,
      "outputs": []
    },
    {
      "cell_type": "code",
      "source": [
        "# Remove outliers\n",
        "df1 = df1[df1['total_amount_billed'] < 100000]\n",
        "df2 = df2[df2['amount_paid'] < 100000]\n",
        "df3 = df3[df3['refund_amount'] < 100000]\n",
        "\n"
      ],
      "metadata": {
        "id": "QQkdrpC1G2-W"
      },
      "execution_count": 42,
      "outputs": []
    },
    {
      "cell_type": "code",
      "source": [
        "# Convert date columns to datetime\n",
        "df1['date_of_purchase'] = pd.to_datetime(df1['date_of_purchase'])\n",
        "df2['date_of_payment'] = pd.to_datetime(df2['date_of_payment'])\n",
        "df3['date_of_refund'] = pd.to_datetime(df3['date_of_refund'])\n"
      ],
      "metadata": {
        "id": "la6OBcdfHD2u"
      },
      "execution_count": 43,
      "outputs": []
    },
    {
      "cell_type": "code",
      "source": [
        "# Rename columns\n",
        "df1 = df1.rename(columns={'total_amount_billed': 'amount', 'payment_status': 'status', 'country_of_purchase': 'country'})\n",
        "df2 = df2.rename(columns={'amount_paid': 'amount', 'payment_status': 'status', 'country_of_payment': 'country'})\n",
        "df3 = df3.rename(columns={'refund_amount': 'amount', 'country_of_refund': 'country'})\n"
      ],
      "metadata": {
        "id": "DvXeQVKNHMM4"
      },
      "execution_count": 16,
      "outputs": []
    },
    {
      "cell_type": "code",
      "source": [
        "# Merge the datasets using customer_id, date, and country as keys\n",
        "df = pd.merge(df1, df2, on=['customer_id'], how='outer')\n",
        "df_merged = pd.merge(df, df3, on=['customer_id'], how='outer')\n"
      ],
      "metadata": {
        "id": "wKHDg0S3HRso"
      },
      "execution_count": 18,
      "outputs": []
    },
    {
      "cell_type": "code",
      "source": [
        "# Replace missing promo code with 'none'\n",
        "df_merged['promo_code'] = df_merged['promo_code'].fillna('none')\n"
      ],
      "metadata": {
        "id": "VvpEaZp2Hg_p"
      },
      "execution_count": 20,
      "outputs": []
    },
    {
      "cell_type": "code",
      "source": [
        "# Join the datasets\n",
        "df_joined = pd.concat([df1, df2, df3], axis=0)\n"
      ],
      "metadata": {
        "id": "KlgEL3EkHkm_"
      },
      "execution_count": 25,
      "outputs": []
    },
    {
      "cell_type": "code",
      "source": [
        "# Loading the data \n",
        "def load_data(df):\n",
        "    filename = datetime.today().strftime(\"%Y%m%d\") + '_cdr.csv'\n",
        "    df.to_csv(filename, index=False)\n",
        "    return filename\n"
      ],
      "metadata": {
        "id": "FLWaaA8rHowu"
      },
      "execution_count": 22,
      "outputs": []
    },
    {
      "cell_type": "code",
      "source": [
        "# Automating the data \n",
        "default_args = {\n",
        "    'owner': 'telecom',\n",
        "    'depends_on_past': False,\n",
        "    'start_date': datetime(2021, 1, 4),\n",
        "    'email': ['telecom@example.com'],\n",
        "    'email_on_failure': True,\n",
        "    'email_on_retry': False,\n",
        "    'retries': 3,\n",
        "    'retry_delay': timedelta(minutes=5)\n",
        "}\n",
        "\n",
        "dag = DAG(\n",
        "    'cdr_pipeline',\n",
        "    default_args=default_args,\n",
        "    description='ETL pipeline for call detail records',\n",
        "    schedule_interval=timedelta(days=1),\n",
        ")\n"
      ],
      "metadata": {
        "id": "xdsjWVCuHzZA"
      },
      "execution_count": null,
      "outputs": []
    },
    {
      "cell_type": "code",
      "source": [
        "#Testing the pipeline \n",
        "# Calculate the net amount (amount - late payment fee - refund amount)\n",
        "df_merged['net_amount'] = df_merged['amount_paid'] - df_merged['late_payment_fee'] - df_merged['refund_amount']\n"
      ],
      "metadata": {
        "id": "sn3uqM_8IFUx"
      },
      "execution_count": null,
      "outputs": []
    },
    {
      "cell_type": "code",
      "source": [
        "# Writing the transformed data to a CSV file\n",
        "df_merged.to_csv(\"transformed_data.csv\", index=False)"
      ],
      "metadata": {
        "id": "P5dPM87IMUKZ"
      },
      "execution_count": 31,
      "outputs": []
    }
  ]
}